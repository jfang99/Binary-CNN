{
 "cells": [
  {
   "cell_type": "code",
   "execution_count": 1,
   "metadata": {},
   "outputs": [],
   "source": [
    "import os\n",
    "import tensorflow as tf\n",
    "from tensorflow.keras import datasets,layers,optimizers,Sequential,metrics\n",
    "import numpy as np"
   ]
  },
  {
   "cell_type": "code",
   "execution_count": 2,
   "metadata": {},
   "outputs": [],
   "source": [
    "#import os\n",
    "#os.environ[\"CUDA_VISIBLE_DEVICES\"] = \"\""
   ]
  },
  {
   "cell_type": "markdown",
   "metadata": {},
   "source": [
    "## Process ImageNet data"
   ]
  },
  {
   "cell_type": "code",
   "execution_count": 2,
   "metadata": {},
   "outputs": [],
   "source": [
    "import tensorflow_datasets.public_api as dataset \n",
    "import tensorflow.keras.backend as backend"
   ]
  },
  {
   "cell_type": "code",
   "execution_count": 3,
   "metadata": {},
   "outputs": [],
   "source": [
    "train_data,test_data=dataset.load(\"imagenette/320px-v2\",split=[\"train\",\"validation\"],shuffle_files=True)"
   ]
  },
  {
   "cell_type": "code",
   "execution_count": 4,
   "metadata": {},
   "outputs": [],
   "source": [
    "N=3000 #size\n",
    "y_train=[]\n",
    "start=True\n",
    "c=0\n",
    "for item in train_data:\n",
    "    x = item['image']\n",
    "    y = item['label']\n",
    "    if start:\n",
    "        x_train = tf.reshape(tf.image.resize(x,(224,224)), [1,224,224,3])\n",
    "        start=False\n",
    "    else:\n",
    "        temp = tf.reshape(tf.image.resize(x,(224,224)), [1,224,224,3])\n",
    "        x_train = tf.concat([x_train, temp], 0)\n",
    "    y_train.append(backend.get_value(y))\n",
    "    c+=1\n",
    "    if c>N:\n",
    "        break\n",
    "x_train=x_train.numpy()\n",
    "y_train=np.array(y_train)"
   ]
  },
  {
   "cell_type": "code",
   "execution_count": 5,
   "metadata": {},
   "outputs": [],
   "source": [
    "N=500 #size\n",
    "y_test=[]\n",
    "start=True\n",
    "c=0\n",
    "for item in test_data:\n",
    "    x = item['image']\n",
    "    y = item['label']\n",
    "    if start:\n",
    "        x_test = tf.reshape(tf.image.resize(x,(224,224)), [1,224,224,3])\n",
    "        start=False\n",
    "    else:\n",
    "        temp = tf.reshape(tf.image.resize(x,(224,224)), [1,224,224,3])\n",
    "        x_test = tf.concat([x_test, temp], 0)\n",
    "    y_test.append(backend.get_value(y))\n",
    "    c+=1\n",
    "    if c>N:\n",
    "        break\n",
    "x_test=x_test.numpy()\n",
    "y_test=np.array(y_test)"
   ]
  },
  {
   "cell_type": "markdown",
   "metadata": {},
   "source": [
    "## Test RestNet Model"
   ]
  },
  {
   "cell_type": "code",
   "execution_count": 8,
   "metadata": {},
   "outputs": [],
   "source": [
    "from Resnet_func import *"
   ]
  },
  {
   "cell_type": "code",
   "execution_count": 9,
   "metadata": {},
   "outputs": [
    {
     "name": "stdout",
     "output_type": "stream",
     "text": [
      "Model: \"res_net\"\n",
      "_________________________________________________________________\n",
      "Layer (type)                 Output Shape              Param #   \n",
      "=================================================================\n",
      "conv2d (Conv2D)              multiple                  9472      \n",
      "_________________________________________________________________\n",
      "sequential (Sequential)      (None, 56, 56, 64)        256       \n",
      "_________________________________________________________________\n",
      "sequential_1 (Sequential)    (None, 56, 56, 64)        148736    \n",
      "_________________________________________________________________\n",
      "sequential_2 (Sequential)    (None, 28, 28, 128)       526976    \n",
      "_________________________________________________________________\n",
      "sequential_3 (Sequential)    (None, 14, 14, 256)       2102528   \n",
      "_________________________________________________________________\n",
      "sequential_4 (Sequential)    (None, 7, 7, 512)         8399360   \n",
      "_________________________________________________________________\n",
      "global_average_pooling2d (Gl multiple                  0         \n",
      "_________________________________________________________________\n",
      "dense (Dense)                multiple                  5130      \n",
      "=================================================================\n",
      "Total params: 11,192,458\n",
      "Trainable params: 11,184,650\n",
      "Non-trainable params: 7,808\n",
      "_________________________________________________________________\n"
     ]
    }
   ],
   "source": [
    "model_resnet18 = build_ResNet('ResNet18', 10)\n",
    "model_resnet18.build(input_shape=(None, 224, 224, 3))\n",
    "model_resnet18.summary()"
   ]
  },
  {
   "cell_type": "code",
   "execution_count": 10,
   "metadata": {},
   "outputs": [],
   "source": [
    "model_resnet18.compile(optimizer='adam',\n",
    "              loss='sparse_categorical_crossentropy',\n",
    "              metrics=['accuracy'])"
   ]
  },
  {
   "cell_type": "code",
   "execution_count": 11,
   "metadata": {
    "scrolled": true
   },
   "outputs": [
    {
     "name": "stdout",
     "output_type": "stream",
     "text": [
      "Epoch 1/25\n",
      "94/94 [==============================] - 17s 124ms/step - loss: 2.8195 - accuracy: 0.2170 - val_loss: 40.5341 - val_accuracy: 0.0918\n",
      "Epoch 2/25\n",
      "94/94 [==============================] - 10s 107ms/step - loss: 1.8471 - accuracy: 0.3471 - val_loss: 2.3896 - val_accuracy: 0.2774\n",
      "Epoch 3/25\n",
      "94/94 [==============================] - 10s 108ms/step - loss: 1.6627 - accuracy: 0.4099 - val_loss: 42.2959 - val_accuracy: 0.1118\n",
      "Epoch 4/25\n",
      "94/94 [==============================] - 10s 109ms/step - loss: 1.4574 - accuracy: 0.5201 - val_loss: 12.9721 - val_accuracy: 0.1198\n",
      "Epoch 5/25\n",
      "94/94 [==============================] - 10s 111ms/step - loss: 1.3228 - accuracy: 0.5554 - val_loss: 7.4386 - val_accuracy: 0.1417\n",
      "Epoch 6/25\n",
      "94/94 [==============================] - 10s 111ms/step - loss: 1.1831 - accuracy: 0.5928 - val_loss: 3.4513 - val_accuracy: 0.3154\n",
      "Epoch 7/25\n",
      "94/94 [==============================] - 10s 111ms/step - loss: 1.1301 - accuracy: 0.6119 - val_loss: 2.5377 - val_accuracy: 0.3353\n",
      "Epoch 8/25\n",
      "94/94 [==============================] - 10s 110ms/step - loss: 1.0019 - accuracy: 0.6676 - val_loss: 3.2461 - val_accuracy: 0.2475\n",
      "Epoch 9/25\n",
      "94/94 [==============================] - 10s 109ms/step - loss: 0.8931 - accuracy: 0.6919 - val_loss: 6.2690 - val_accuracy: 0.2176\n",
      "Epoch 10/25\n",
      "94/94 [==============================] - 10s 109ms/step - loss: 0.8360 - accuracy: 0.7131 - val_loss: 2.9940 - val_accuracy: 0.3214\n",
      "Epoch 11/25\n",
      "94/94 [==============================] - 10s 109ms/step - loss: 0.7117 - accuracy: 0.7596 - val_loss: 3.9101 - val_accuracy: 0.3293\n",
      "Epoch 12/25\n",
      "94/94 [==============================] - 10s 109ms/step - loss: 0.6045 - accuracy: 0.7975 - val_loss: 1.7280 - val_accuracy: 0.4611\n",
      "Epoch 13/25\n",
      "94/94 [==============================] - 10s 110ms/step - loss: 0.4922 - accuracy: 0.8392 - val_loss: 3.3170 - val_accuracy: 0.3852\n",
      "Epoch 14/25\n",
      "94/94 [==============================] - 10s 110ms/step - loss: 0.4564 - accuracy: 0.8428 - val_loss: 1.5473 - val_accuracy: 0.6108\n",
      "Epoch 15/25\n",
      "94/94 [==============================] - 10s 110ms/step - loss: 0.3492 - accuracy: 0.8795 - val_loss: 3.1319 - val_accuracy: 0.4152\n",
      "Epoch 16/25\n",
      "94/94 [==============================] - 10s 110ms/step - loss: 0.2326 - accuracy: 0.9325 - val_loss: 1.5550 - val_accuracy: 0.5928\n",
      "Epoch 17/25\n",
      "94/94 [==============================] - 10s 110ms/step - loss: 0.2452 - accuracy: 0.9160 - val_loss: 2.0477 - val_accuracy: 0.5729\n",
      "Epoch 18/25\n",
      "94/94 [==============================] - 10s 110ms/step - loss: 0.1837 - accuracy: 0.9304 - val_loss: 1.6562 - val_accuracy: 0.6347\n",
      "Epoch 19/25\n",
      "94/94 [==============================] - 10s 110ms/step - loss: 0.1209 - accuracy: 0.9591 - val_loss: 2.4264 - val_accuracy: 0.4910\n",
      "Epoch 20/25\n",
      "94/94 [==============================] - 10s 110ms/step - loss: 0.0826 - accuracy: 0.9738 - val_loss: 1.7223 - val_accuracy: 0.5768\n",
      "Epoch 21/25\n",
      "94/94 [==============================] - 10s 110ms/step - loss: 0.0460 - accuracy: 0.9874 - val_loss: 1.1864 - val_accuracy: 0.6926\n",
      "Epoch 22/25\n",
      "94/94 [==============================] - 10s 109ms/step - loss: 0.0506 - accuracy: 0.9865 - val_loss: 1.5910 - val_accuracy: 0.6547\n",
      "Epoch 23/25\n",
      "94/94 [==============================] - 10s 110ms/step - loss: 0.0757 - accuracy: 0.9714 - val_loss: 1.6005 - val_accuracy: 0.6487\n",
      "Epoch 24/25\n",
      "94/94 [==============================] - 10s 109ms/step - loss: 0.1326 - accuracy: 0.9545 - val_loss: 2.4510 - val_accuracy: 0.4890\n",
      "Epoch 25/25\n",
      "94/94 [==============================] - 10s 110ms/step - loss: 0.0978 - accuracy: 0.9702 - val_loss: 2.2343 - val_accuracy: 0.5848\n"
     ]
    },
    {
     "data": {
      "text/plain": [
       "<tensorflow.python.keras.callbacks.History at 0x7f3d980c14a8>"
      ]
     },
     "execution_count": 11,
     "metadata": {},
     "output_type": "execute_result"
    }
   ],
   "source": [
    "model_resnet18.fit(x=x_train, y=y_train, batch_size=32, epochs=25, shuffle=True, verbose=1, validation_data=(x_test, y_test)) "
   ]
  },
  {
   "cell_type": "markdown",
   "metadata": {},
   "source": [
    "## Test Resnet with ABC layers"
   ]
  },
  {
   "cell_type": "markdown",
   "metadata": {},
   "source": [
    "#### Pre-train"
   ]
  },
  {
   "cell_type": "code",
   "execution_count": 12,
   "metadata": {},
   "outputs": [],
   "source": [
    "from Resnet_func import *"
   ]
  },
  {
   "cell_type": "code",
   "execution_count": 13,
   "metadata": {},
   "outputs": [
    {
     "name": "stdout",
     "output_type": "stream",
     "text": [
      "Model: \"res_net_1\"\n",
      "_________________________________________________________________\n",
      "Layer (type)                 Output Shape              Param #   \n",
      "=================================================================\n",
      "conv2d_20 (Conv2D)           multiple                  9472      \n",
      "_________________________________________________________________\n",
      "sequential_5 (Sequential)    (None, 56, 56, 64)        256       \n",
      "_________________________________________________________________\n",
      "sequential_6 (Sequential)    (None, 56, 56, 64)        148736    \n",
      "_________________________________________________________________\n",
      "sequential_7 (Sequential)    (None, 28, 28, 128)       526976    \n",
      "_________________________________________________________________\n",
      "sequential_8 (Sequential)    (None, 14, 14, 256)       2102528   \n",
      "_________________________________________________________________\n",
      "sequential_9 (Sequential)    (None, 7, 7, 512)         8399360   \n",
      "_________________________________________________________________\n",
      "global_average_pooling2d_1 ( multiple                  0         \n",
      "_________________________________________________________________\n",
      "dense_1 (Dense)              multiple                  5130      \n",
      "=================================================================\n",
      "Total params: 11,192,458\n",
      "Trainable params: 11,184,650\n",
      "Non-trainable params: 7,808\n",
      "_________________________________________________________________\n"
     ]
    }
   ],
   "source": [
    "model = build_ResNet('ResNet18', 10)\n",
    "model.build(input_shape=(None, 224, 224, 3))\n",
    "model.summary()"
   ]
  },
  {
   "cell_type": "code",
   "execution_count": 14,
   "metadata": {},
   "outputs": [],
   "source": [
    "model.compile(optimizer='adam',\n",
    "              loss='sparse_categorical_crossentropy',\n",
    "              metrics=['accuracy'])"
   ]
  },
  {
   "cell_type": "code",
   "execution_count": 15,
   "metadata": {},
   "outputs": [
    {
     "name": "stdout",
     "output_type": "stream",
     "text": [
      "Epoch 1/25\n",
      "376/376 [==============================] - 19s 45ms/step - loss: 2.7475 - accuracy: 0.1784 - val_loss: 3.2721 - val_accuracy: 0.1976\n",
      "Epoch 2/25\n",
      "376/376 [==============================] - 16s 42ms/step - loss: 2.0544 - accuracy: 0.2924 - val_loss: 4.0584 - val_accuracy: 0.2096\n",
      "Epoch 3/25\n",
      "376/376 [==============================] - 16s 43ms/step - loss: 1.8918 - accuracy: 0.3315 - val_loss: 3.1623 - val_accuracy: 0.2774\n",
      "Epoch 4/25\n",
      "376/376 [==============================] - 16s 42ms/step - loss: 1.7589 - accuracy: 0.3927 - val_loss: 2.3351 - val_accuracy: 0.3273\n",
      "Epoch 5/25\n",
      "376/376 [==============================] - 16s 42ms/step - loss: 1.6464 - accuracy: 0.4382 - val_loss: 2.0198 - val_accuracy: 0.3273\n",
      "Epoch 6/25\n",
      "376/376 [==============================] - 16s 42ms/step - loss: 1.5374 - accuracy: 0.4672 - val_loss: 3.9417 - val_accuracy: 0.1597\n",
      "Epoch 7/25\n",
      "376/376 [==============================] - 16s 42ms/step - loss: 1.4889 - accuracy: 0.4967 - val_loss: 1.6631 - val_accuracy: 0.4990\n",
      "Epoch 8/25\n",
      "376/376 [==============================] - 16s 42ms/step - loss: 1.2982 - accuracy: 0.5570 - val_loss: 1.4985 - val_accuracy: 0.5210\n",
      "Epoch 9/25\n",
      "376/376 [==============================] - 16s 42ms/step - loss: 1.1749 - accuracy: 0.6008 - val_loss: 1.3397 - val_accuracy: 0.5709\n",
      "Epoch 10/25\n",
      "376/376 [==============================] - 16s 42ms/step - loss: 1.0502 - accuracy: 0.6521 - val_loss: 1.3613 - val_accuracy: 0.5469\n",
      "Epoch 11/25\n",
      "376/376 [==============================] - 16s 42ms/step - loss: 0.9628 - accuracy: 0.6779 - val_loss: 1.3944 - val_accuracy: 0.6128\n",
      "Epoch 12/25\n",
      "376/376 [==============================] - 16s 42ms/step - loss: 0.8485 - accuracy: 0.7035 - val_loss: 1.6234 - val_accuracy: 0.5329\n",
      "Epoch 13/25\n",
      "376/376 [==============================] - 16s 42ms/step - loss: 0.7151 - accuracy: 0.7666 - val_loss: 1.5703 - val_accuracy: 0.5469\n",
      "Epoch 14/25\n",
      "376/376 [==============================] - 16s 42ms/step - loss: 0.6150 - accuracy: 0.7973 - val_loss: 1.6209 - val_accuracy: 0.5609\n",
      "Epoch 15/25\n",
      "376/376 [==============================] - 16s 42ms/step - loss: 0.4527 - accuracy: 0.8573 - val_loss: 1.7035 - val_accuracy: 0.5509\n",
      "Epoch 16/25\n",
      "376/376 [==============================] - 16s 42ms/step - loss: 0.3530 - accuracy: 0.8898 - val_loss: 1.8783 - val_accuracy: 0.5589\n",
      "Epoch 17/25\n",
      "376/376 [==============================] - 16s 42ms/step - loss: 0.2762 - accuracy: 0.9119 - val_loss: 1.7741 - val_accuracy: 0.5709\n",
      "Epoch 18/25\n",
      "376/376 [==============================] - 16s 42ms/step - loss: 0.2508 - accuracy: 0.9104 - val_loss: 2.0814 - val_accuracy: 0.5190\n",
      "Epoch 19/25\n",
      "376/376 [==============================] - 16s 42ms/step - loss: 0.2025 - accuracy: 0.9374 - val_loss: 1.7059 - val_accuracy: 0.5948\n",
      "Epoch 20/25\n",
      "376/376 [==============================] - 16s 42ms/step - loss: 0.1463 - accuracy: 0.9497 - val_loss: 3.6161 - val_accuracy: 0.4591\n",
      "Epoch 21/25\n",
      "376/376 [==============================] - 16s 42ms/step - loss: 0.1628 - accuracy: 0.9478 - val_loss: 1.8942 - val_accuracy: 0.5808\n",
      "Epoch 22/25\n",
      "376/376 [==============================] - 16s 42ms/step - loss: 0.1343 - accuracy: 0.9519 - val_loss: 2.2065 - val_accuracy: 0.5309\n",
      "Epoch 23/25\n",
      "376/376 [==============================] - 16s 42ms/step - loss: 0.1519 - accuracy: 0.9530 - val_loss: 1.7231 - val_accuracy: 0.6347\n",
      "Epoch 24/25\n",
      "376/376 [==============================] - 16s 42ms/step - loss: 0.1287 - accuracy: 0.9572 - val_loss: 1.6782 - val_accuracy: 0.5988\n",
      "Epoch 25/25\n",
      "376/376 [==============================] - 16s 42ms/step - loss: 0.1328 - accuracy: 0.9594 - val_loss: 2.0254 - val_accuracy: 0.5529\n"
     ]
    },
    {
     "data": {
      "text/plain": [
       "<tensorflow.python.keras.callbacks.History at 0x7f3e04d9c710>"
      ]
     },
     "execution_count": 15,
     "metadata": {},
     "output_type": "execute_result"
    }
   ],
   "source": [
    "model.fit(x=x_train, y=y_train, batch_size=8, epochs=25, shuffle=True, verbose=1, validation_data=(x_test, y_test)) "
   ]
  },
  {
   "cell_type": "markdown",
   "metadata": {},
   "source": [
    "#### Model Initialization"
   ]
  },
  {
   "cell_type": "code",
   "execution_count": 16,
   "metadata": {},
   "outputs": [],
   "source": [
    "kernel_initialization=model.get_weights()"
   ]
  },
  {
   "cell_type": "code",
   "execution_count": 17,
   "metadata": {},
   "outputs": [],
   "source": [
    "W=[]\n",
    "bias=[]\n",
    "i=0\n",
    "W.append(tf.convert_to_tensor(kernel_initialization[0][0]))\n",
    "bias.append(tf.convert_to_tensor(kernel_initialization[0][1]))\n",
    "for item in kernel_initialization[1:]:\n",
    "    W.append(item[0])\n",
    "    W.append(item[2])\n",
    "    bias.append(item[1])\n",
    "    bias.append(item[3])    "
   ]
  },
  {
   "cell_type": "code",
   "execution_count": 18,
   "metadata": {},
   "outputs": [],
   "source": [
    "from Resnet_self import *"
   ]
  },
  {
   "cell_type": "code",
   "execution_count": 19,
   "metadata": {},
   "outputs": [],
   "source": [
    "B=[]\n",
    "M=5\n",
    "for i in W:\n",
    "    Bi,_,_=get_binary_filter(i,M)\n",
    "    B.append(Bi)"
   ]
  },
  {
   "cell_type": "code",
   "execution_count": 16,
   "metadata": {},
   "outputs": [
    {
     "data": {
      "text/plain": [
       "17"
      ]
     },
     "execution_count": 16,
     "metadata": {},
     "output_type": "execute_result"
    }
   ],
   "source": [
    "len(B)"
   ]
  },
  {
   "cell_type": "code",
   "execution_count": 17,
   "metadata": {},
   "outputs": [],
   "source": [
    "tf.config.run_functions_eagerly(True)"
   ]
  },
  {
   "cell_type": "code",
   "execution_count": 20,
   "metadata": {},
   "outputs": [],
   "source": [
    "N=3\n",
    "tf.compat.v1.enable_eager_execution()\n",
    "model_abc = build_ResNet('ResNet18', 10,M,N,B, bias, W)\n",
    "#model_abc.build(input_shape=(None, 224, 224, 3))\n",
    "#model_abc.summary()\n",
    "model_abc.compile(\"adam\",\n",
    "              loss='sparse_categorical_crossentropy',\n",
    "              metrics=['accuracy'])"
   ]
  },
  {
   "cell_type": "code",
   "execution_count": 21,
   "metadata": {
    "scrolled": false
   },
   "outputs": [
    {
     "name": "stderr",
     "output_type": "stream",
     "text": [
      "/home/ecbm4040/envTF24/lib/python3.6/site-packages/tensorflow/python/data/ops/dataset_ops.py:3504: UserWarning: Even though the tf.config.experimental_run_functions_eagerly option is set, this option does not apply to tf.data functions. tf.data functions are still traced and executed as graphs.\n",
      "  \"Even though the tf.config.experimental_run_functions_eagerly \"\n"
     ]
    },
    {
     "name": "stdout",
     "output_type": "stream",
     "text": [
      "Epoch 1/15\n",
      "376/376 [==============================] - ETA: 0s - loss: 2.4642 - accuracy: 0.1422"
     ]
    },
    {
     "name": "stderr",
     "output_type": "stream",
     "text": [
      "/home/ecbm4040/envTF24/lib/python3.6/site-packages/tensorflow/python/data/ops/dataset_ops.py:3504: UserWarning: Even though the tf.config.experimental_run_functions_eagerly option is set, this option does not apply to tf.data functions. tf.data functions are still traced and executed as graphs.\n",
      "  \"Even though the tf.config.experimental_run_functions_eagerly \"\n"
     ]
    },
    {
     "name": "stdout",
     "output_type": "stream",
     "text": [
      "376/376 [==============================] - 132s 350ms/step - loss: 2.4640 - accuracy: 0.1422 - val_loss: 2.9162 - val_accuracy: 0.0798\n",
      "Epoch 2/15\n",
      "376/376 [==============================] - 131s 350ms/step - loss: 2.2547 - accuracy: 0.1649 - val_loss: 3.2986 - val_accuracy: 0.1198\n",
      "Epoch 3/15\n",
      "376/376 [==============================] - 132s 350ms/step - loss: 2.1912 - accuracy: 0.2088 - val_loss: 2.6103 - val_accuracy: 0.1138\n",
      "Epoch 4/15\n",
      "376/376 [==============================] - 131s 349ms/step - loss: 2.1222 - accuracy: 0.2319 - val_loss: 2.4280 - val_accuracy: 0.1637\n",
      "Epoch 5/15\n",
      "376/376 [==============================] - 131s 349ms/step - loss: 2.0856 - accuracy: 0.2546 - val_loss: 2.8730 - val_accuracy: 0.0978\n",
      "Epoch 6/15\n",
      "376/376 [==============================] - 131s 349ms/step - loss: 2.0385 - accuracy: 0.2784 - val_loss: 2.9240 - val_accuracy: 0.1537\n",
      "Epoch 7/15\n",
      "376/376 [==============================] - 132s 351ms/step - loss: 2.0190 - accuracy: 0.2854 - val_loss: 2.2377 - val_accuracy: 0.2136\n",
      "Epoch 8/15\n",
      "376/376 [==============================] - 131s 349ms/step - loss: 1.9506 - accuracy: 0.3067 - val_loss: 2.1408 - val_accuracy: 0.2355\n",
      "Epoch 9/15\n",
      "376/376 [==============================] - 131s 348ms/step - loss: 1.8821 - accuracy: 0.3375 - val_loss: 4.0623 - val_accuracy: 0.1178\n",
      "Epoch 10/15\n",
      "376/376 [==============================] - 131s 348ms/step - loss: 1.7869 - accuracy: 0.3597 - val_loss: 4.2329 - val_accuracy: 0.1717\n",
      "Epoch 11/15\n",
      "376/376 [==============================] - 131s 350ms/step - loss: 1.6304 - accuracy: 0.4318 - val_loss: 2.7898 - val_accuracy: 0.2275\n",
      "Epoch 12/15\n",
      "376/376 [==============================] - 131s 348ms/step - loss: 1.4553 - accuracy: 0.4935 - val_loss: 2.6828 - val_accuracy: 0.1717\n",
      "Epoch 13/15\n",
      "376/376 [==============================] - 131s 349ms/step - loss: 1.2553 - accuracy: 0.5623 - val_loss: 4.2962 - val_accuracy: 0.1317\n",
      "Epoch 14/15\n",
      "376/376 [==============================] - 131s 350ms/step - loss: 1.0343 - accuracy: 0.6463 - val_loss: 8.5512 - val_accuracy: 0.1178\n",
      "Epoch 15/15\n",
      "376/376 [==============================] - 131s 350ms/step - loss: 0.8406 - accuracy: 0.7134 - val_loss: 3.2449 - val_accuracy: 0.2435\n"
     ]
    },
    {
     "data": {
      "text/plain": [
       "<tensorflow.python.keras.callbacks.History at 0x7f6628bd15c0>"
      ]
     },
     "execution_count": 21,
     "metadata": {},
     "output_type": "execute_result"
    }
   ],
   "source": [
    "model_abc.fit(x=x_train, y=y_train, batch_size=8, epochs=15, shuffle=True, verbose=1, validation_data=(x_test, y_test))"
   ]
  }
 ],
 "metadata": {
  "kernelspec": {
   "display_name": "Python 3",
   "language": "python",
   "name": "python3"
  },
  "language_info": {
   "codemirror_mode": {
    "name": "ipython",
    "version": 3
   },
   "file_extension": ".py",
   "mimetype": "text/x-python",
   "name": "python",
   "nbconvert_exporter": "python",
   "pygments_lexer": "ipython3",
   "version": "3.7.4"
  }
 },
 "nbformat": 4,
 "nbformat_minor": 5
}
