{
 "cells": [
  {
   "cell_type": "code",
   "execution_count": 2,
   "id": "9c39764f",
   "metadata": {},
   "outputs": [],
   "source": [
    "import tensorflow as tf\n",
    "import numpy as np\n",
    "from sklearn import linear_model    "
   ]
  },
  {
   "cell_type": "code",
   "execution_count": 3,
   "id": "93f53fbb",
   "metadata": {},
   "outputs": [],
   "source": [
    "tf.config.run_functions_eagerly(True)"
   ]
  },
  {
   "cell_type": "code",
   "execution_count": 4,
   "id": "a75f3fb3",
   "metadata": {},
   "outputs": [],
   "source": [
    "%load_ext autoreload\n",
    "%autoreload 2\n",
    "%matplotlib inline\n",
    "\n",
    "# Import modules\n",
    "import os\n",
    "import numpy as np\n",
    "import matplotlib.pyplot as plt\n",
    "from tensorflow.keras.datasets import fashion_mnist\n",
    "import datetime\n",
    "import tensorflow as tf\n",
    "from tensorflow.keras.models import Sequential\n",
    "from tensorflow.keras.layers import Dense, Flatten, Conv2D, AveragePooling2D, MaxPooling2D\n",
    "from tensorflow.keras import Model\n",
    "from tensorflow.keras.utils import to_categorical\n",
    "from tensorflow.keras.losses import categorical_crossentropy\n",
    "import datetime"
   ]
  },
  {
   "cell_type": "code",
   "execution_count": 5,
   "id": "6c203ef5",
   "metadata": {},
   "outputs": [
    {
     "name": "stdout",
     "output_type": "stream",
     "text": [
      "2.4.0\n"
     ]
    }
   ],
   "source": [
    "print(tf.__version__)"
   ]
  },
  {
   "cell_type": "markdown",
   "id": "64cafb65",
   "metadata": {},
   "source": [
    "## Pre-train"
   ]
  },
  {
   "cell_type": "code",
   "execution_count": 6,
   "id": "64621b65",
   "metadata": {},
   "outputs": [],
   "source": [
    "# Lenet\n",
    "# Reference: https://analyticsindiamag.com/complete-tutorial-on-lenet-5-guide-to-begin-with-cnns/\n",
    "def build_model(verbose=0):\n",
    "    train, test = fashion_mnist.load_data()               \n",
    "    x_train, y_train = train\n",
    "    x_test, y_test = test \n",
    "\n",
    "    # Add a dimension\n",
    "    x_train = x_train[..., tf.newaxis].astype(\"float32\") #(60000, 28, 28, 1) \n",
    "    x_test = x_test[..., tf.newaxis].astype(\"float32\") #(60000,)   \n",
    "\n",
    "    model = tf.keras.models.Sequential()\n",
    "\n",
    "    model.add(Conv2D(filters=6, kernel_size=(3, 3), activation='tanh', \n",
    "                     input_shape=(28, 28, 1)))\n",
    "    model.add(AveragePooling2D())\n",
    "    model.add(Conv2D(filters=16, kernel_size=(3, 3), activation='tanh'))\n",
    "    model.add(AveragePooling2D())\n",
    "    model.add(Flatten())\n",
    "    model.add(Dense(128, activation='tanh'))\n",
    "    model.add(Dense(10, activation='softmax'))\n",
    "\n",
    "    model.compile(optimizer='adam',\n",
    "                  loss='sparse_categorical_crossentropy',\n",
    "                  metrics=['accuracy'])\n",
    "\n",
    "    model.fit(x=x_train, \n",
    "              y=y_train,\n",
    "              batch_size=256,\n",
    "              epochs=5, \n",
    "              validation_data=(x_test, y_test),\n",
    "              verbose=verbose)\n",
    "    return model"
   ]
  },
  {
   "cell_type": "code",
   "execution_count": 7,
   "id": "18581fde",
   "metadata": {},
   "outputs": [],
   "source": [
    "def get_all_layers():\n",
    "    for i in model.layers:    \n",
    "        print(i.name)"
   ]
  },
  {
   "cell_type": "code",
   "execution_count": 8,
   "id": "b864cb53",
   "metadata": {},
   "outputs": [],
   "source": [
    "def get_weights_bias(model): \n",
    "    out = dict()\n",
    "    out[\"conv2d\"] = model.get_layer('conv2d').get_weights()[0]\n",
    "    out[\"bias\"] = model.get_layer('conv2d').get_weights()[1]\n",
    "    out[\"conv2d_1\"] = model.get_layer('conv2d_1').get_weights()[0]\n",
    "    out[\"bias_1\"] = model.get_layer('conv2d_1').get_weights()[1]\n",
    "    return out"
   ]
  },
  {
   "cell_type": "code",
   "execution_count": 9,
   "id": "90f15791",
   "metadata": {},
   "outputs": [
    {
     "name": "stderr",
     "output_type": "stream",
     "text": [
      "/home/ecbm4040/envTF24/lib/python3.6/site-packages/tensorflow/python/data/ops/dataset_ops.py:3504: UserWarning: Even though the tf.config.experimental_run_functions_eagerly option is set, this option does not apply to tf.data functions. tf.data functions are still traced and executed as graphs.\n",
      "  \"Even though the tf.config.experimental_run_functions_eagerly \"\n"
     ]
    },
    {
     "name": "stdout",
     "output_type": "stream",
     "text": [
      "Epoch 1/5\n",
      "235/235 [==============================] - 6s 14ms/step - loss: 0.8623 - accuracy: 0.7078 - val_loss: 0.4562 - val_accuracy: 0.8345\n",
      "Epoch 2/5\n",
      "235/235 [==============================] - 3s 13ms/step - loss: 0.4123 - accuracy: 0.8503 - val_loss: 0.4110 - val_accuracy: 0.8512\n",
      "Epoch 3/5\n",
      "235/235 [==============================] - 3s 13ms/step - loss: 0.3661 - accuracy: 0.8680 - val_loss: 0.3938 - val_accuracy: 0.8506\n",
      "Epoch 4/5\n",
      "235/235 [==============================] - 3s 13ms/step - loss: 0.3375 - accuracy: 0.8772 - val_loss: 0.3507 - val_accuracy: 0.8755\n",
      "Epoch 5/5\n",
      "235/235 [==============================] - 3s 14ms/step - loss: 0.3193 - accuracy: 0.8842 - val_loss: 0.3635 - val_accuracy: 0.8702\n"
     ]
    }
   ],
   "source": [
    "# build model\n",
    "model = build_model(verbose=1)"
   ]
  },
  {
   "cell_type": "code",
   "execution_count": 10,
   "id": "eb87b083",
   "metadata": {},
   "outputs": [
    {
     "name": "stdout",
     "output_type": "stream",
     "text": [
      "(3, 3, 1, 6)\n",
      "(3, 3, 6, 16)\n",
      "(6,)\n",
      "(16,)\n"
     ]
    }
   ],
   "source": [
    "weights = get_weights_bias(model)\n",
    "print(weights['conv2d'].shape) #10 filters\n",
    "print(weights['conv2d_1'].shape) #8 filters\n",
    "print(weights['bias'].shape) #10 biases\n",
    "print(weights['bias_1'].shape) #8 biases"
   ]
  },
  {
   "cell_type": "markdown",
   "id": "ff72a6ee",
   "metadata": {},
   "source": [
    "## Initialize"
   ]
  },
  {
   "cell_type": "code",
   "execution_count": 11,
   "id": "c6033e98",
   "metadata": {},
   "outputs": [],
   "source": [
    "from layer_func import *"
   ]
  },
  {
   "cell_type": "code",
   "execution_count": 12,
   "id": "431ad664",
   "metadata": {},
   "outputs": [],
   "source": [
    "M = 5\n",
    "B1,_,_ = get_binary_filter(tf.convert_to_tensor(weights['conv2d']),M)\n",
    "bias1 = tf.convert_to_tensor(weights['bias'])\n",
    "W1 = tf.convert_to_tensor(weights['conv2d'])"
   ]
  },
  {
   "cell_type": "code",
   "execution_count": 13,
   "id": "da358581",
   "metadata": {},
   "outputs": [],
   "source": [
    "M = 5\n",
    "B2,_,_ = get_binary_filter(tf.convert_to_tensor(weights['conv2d_1']),M)\n",
    "bias2 = tf.convert_to_tensor(weights['bias_1'])\n",
    "W2 = tf.convert_to_tensor(weights['conv2d_1'])"
   ]
  },
  {
   "cell_type": "markdown",
   "id": "b08efd6b",
   "metadata": {},
   "source": [
    "#### Model Setup"
   ]
  },
  {
   "cell_type": "code",
   "execution_count": 14,
   "id": "3d08f50e",
   "metadata": {},
   "outputs": [],
   "source": [
    "def build_model(x_train,y_train,M,N,W1,B1,W2,B2,bias1,bias2,stride=1,verbose=1,lr=0.01):\n",
    "\n",
    "    model = tf.keras.models.Sequential()\n",
    "\n",
    "    model.add(ABCLayer(M, N, B1, bias1, W1,stride))\n",
    "    model.add(AveragePooling2D())\n",
    "    model.add(ABCLayer(M,N,B2,bias2,W2,stride))\n",
    "    model.add(AveragePooling2D())\n",
    "    model.add(Flatten())\n",
    "    model.add(Dense(128, activation='tanh'))\n",
    "    model.add(Dense(10, activation='softmax'))\n",
    "    \n",
    "    optimizer = tf.keras.optimizers.Adam(lr=lr)\n",
    "    model.compile(optimizer=optimizer,\n",
    "                  loss='sparse_categorical_crossentropy',\n",
    "                  metrics=['accuracy'])\n",
    "    return model"
   ]
  },
  {
   "cell_type": "markdown",
   "id": "00a7af2c",
   "metadata": {},
   "source": [
    "#### Train"
   ]
  },
  {
   "cell_type": "code",
   "execution_count": 15,
   "id": "be9cad34",
   "metadata": {},
   "outputs": [],
   "source": [
    "train, test = fashion_mnist.load_data()                                                    \n",
    "\n",
    "x_train, y_train = train #(60000, 28, 28,1)\n",
    "x_test, y_test = test #(10000, 28, 28,1)   \n",
    "\n",
    "# Add a dimension\n",
    "x_train = x_train[..., tf.newaxis].astype(\"float32\")\n",
    "x_test = x_test[..., tf.newaxis].astype(\"float32\")"
   ]
  },
  {
   "cell_type": "code",
   "execution_count": 17,
   "id": "05cac7a2",
   "metadata": {
    "scrolled": false
   },
   "outputs": [],
   "source": [
    "M=5\n",
    "N=3\n",
    "model_53 = build_model(x_train,y_train,M,N,W1,B1,W2,B2,bias1,bias2,verbose=1,lr=0.001)"
   ]
  },
  {
   "cell_type": "code",
   "execution_count": 18,
   "id": "3c73ac4f",
   "metadata": {},
   "outputs": [
    {
     "name": "stdout",
     "output_type": "stream",
     "text": [
      "Epoch 1/5\n",
      "235/235 [==============================] - ETA: 0s - loss: 1.3937 - accuracy: 0.5472"
     ]
    },
    {
     "name": "stderr",
     "output_type": "stream",
     "text": [
      "/home/ecbm4040/envTF24/lib/python3.6/site-packages/tensorflow/python/data/ops/dataset_ops.py:3504: UserWarning: Even though the tf.config.experimental_run_functions_eagerly option is set, this option does not apply to tf.data functions. tf.data functions are still traced and executed as graphs.\n",
      "  \"Even though the tf.config.experimental_run_functions_eagerly \"\n"
     ]
    },
    {
     "name": "stdout",
     "output_type": "stream",
     "text": [
      "235/235 [==============================] - 22s 84ms/step - loss: 1.3920 - accuracy: 0.5477 - val_loss: 0.7192 - val_accuracy: 0.7410\n",
      "Epoch 2/5\n",
      "235/235 [==============================] - 19s 82ms/step - loss: 0.6678 - accuracy: 0.7586 - val_loss: 0.6432 - val_accuracy: 0.7649\n",
      "Epoch 3/5\n",
      "235/235 [==============================] - 19s 82ms/step - loss: 0.6119 - accuracy: 0.7757 - val_loss: 0.6201 - val_accuracy: 0.7716\n",
      "Epoch 4/5\n",
      "235/235 [==============================] - 20s 83ms/step - loss: 0.5753 - accuracy: 0.7853 - val_loss: 0.5981 - val_accuracy: 0.7744\n",
      "Epoch 5/5\n",
      "235/235 [==============================] - 19s 82ms/step - loss: 0.5530 - accuracy: 0.7947 - val_loss: 0.5664 - val_accuracy: 0.7924\n"
     ]
    },
    {
     "data": {
      "text/plain": [
       "<tensorflow.python.keras.callbacks.History at 0x7f9e57972940>"
      ]
     },
     "execution_count": 18,
     "metadata": {},
     "output_type": "execute_result"
    }
   ],
   "source": [
    "model_53.fit(x=x_train, \n",
    "          y=y_train,\n",
    "          batch_size=256,\n",
    "          epochs=5, \n",
    "          validation_data=(x_test, y_test),\n",
    "          verbose=1)"
   ]
  },
  {
   "cell_type": "code",
   "execution_count": 30,
   "id": "6fa1f2e4",
   "metadata": {},
   "outputs": [],
   "source": [
    "model_53.save_weights(filepath=\"./saved_weights/model_53\")"
   ]
  },
  {
   "cell_type": "markdown",
   "id": "03eaa69a",
   "metadata": {},
   "source": [
    "### Experiment with different hyperparameters"
   ]
  },
  {
   "cell_type": "markdown",
   "id": "758034f1",
   "metadata": {},
   "source": [
    "M=3, N=3"
   ]
  },
  {
   "cell_type": "code",
   "execution_count": 32,
   "id": "ab6fbdff",
   "metadata": {},
   "outputs": [],
   "source": [
    "M = 3\n",
    "B1,_,_ = get_binary_filter(tf.convert_to_tensor(weights['conv2d']),M)\n",
    "bias1 = tf.convert_to_tensor(weights['bias'])\n",
    "W1 = tf.convert_to_tensor(weights['conv2d'])\n",
    "B2,_,_ = get_binary_filter(tf.convert_to_tensor(weights['conv2d_1']),M)\n",
    "bias2 = tf.convert_to_tensor(weights['bias_1'])\n",
    "W2 = tf.convert_to_tensor(weights['conv2d_1'])"
   ]
  },
  {
   "cell_type": "code",
   "execution_count": 37,
   "id": "6f982805",
   "metadata": {},
   "outputs": [
    {
     "name": "stdout",
     "output_type": "stream",
     "text": [
      "Epoch 1/5\n",
      "  2/235 [..............................] - ETA: 14s - loss: 2.4471 - accuracy: 0.0693"
     ]
    },
    {
     "name": "stderr",
     "output_type": "stream",
     "text": [
      "/home/ecbm4040/envTF24/lib/python3.6/site-packages/tensorflow/python/data/ops/dataset_ops.py:3504: UserWarning: Even though the tf.config.experimental_run_functions_eagerly option is set, this option does not apply to tf.data functions. tf.data functions are still traced and executed as graphs.\n",
      "  \"Even though the tf.config.experimental_run_functions_eagerly \"\n"
     ]
    },
    {
     "name": "stdout",
     "output_type": "stream",
     "text": [
      "235/235 [==============================] - ETA: 0s - loss: 1.8165 - accuracy: 0.3721"
     ]
    },
    {
     "name": "stderr",
     "output_type": "stream",
     "text": [
      "/home/ecbm4040/envTF24/lib/python3.6/site-packages/tensorflow/python/data/ops/dataset_ops.py:3504: UserWarning: Even though the tf.config.experimental_run_functions_eagerly option is set, this option does not apply to tf.data functions. tf.data functions are still traced and executed as graphs.\n",
      "  \"Even though the tf.config.experimental_run_functions_eagerly \"\n"
     ]
    },
    {
     "name": "stdout",
     "output_type": "stream",
     "text": [
      "235/235 [==============================] - 15s 62ms/step - loss: 1.8143 - accuracy: 0.3728 - val_loss: 0.7931 - val_accuracy: 0.7034\n",
      "Epoch 2/5\n",
      "235/235 [==============================] - 15s 63ms/step - loss: 0.7063 - accuracy: 0.7446 - val_loss: 0.6605 - val_accuracy: 0.7601\n",
      "Epoch 3/5\n",
      "235/235 [==============================] - 15s 63ms/step - loss: 0.6280 - accuracy: 0.7724 - val_loss: 0.6283 - val_accuracy: 0.7756\n",
      "Epoch 4/5\n",
      "235/235 [==============================] - 15s 63ms/step - loss: 0.5855 - accuracy: 0.7872 - val_loss: 0.5844 - val_accuracy: 0.7898\n",
      "Epoch 5/5\n",
      "235/235 [==============================] - 15s 63ms/step - loss: 0.5670 - accuracy: 0.7909 - val_loss: 0.5640 - val_accuracy: 0.7968\n"
     ]
    },
    {
     "data": {
      "text/plain": [
       "<tensorflow.python.keras.callbacks.History at 0x7f9d705922b0>"
      ]
     },
     "execution_count": 37,
     "metadata": {},
     "output_type": "execute_result"
    }
   ],
   "source": [
    "N=3\n",
    "model_33 = build_model(x_train,y_train,M,N,W1,B1,W2,B2,bias1,bias2,verbose=1,lr=0.005)\n",
    "model_33.fit(x=x_train, y=y_train,batch_size=256,epochs=5, validation_data=(x_test, y_test),verbose=1)"
   ]
  },
  {
   "cell_type": "code",
   "execution_count": 38,
   "id": "e5f09b6c",
   "metadata": {},
   "outputs": [],
   "source": [
    "model_33.save_weights(filepath=\"./saved_weights/model_33\")"
   ]
  },
  {
   "cell_type": "markdown",
   "id": "d50f7252",
   "metadata": {},
   "source": [
    "M=5, N=5"
   ]
  },
  {
   "cell_type": "code",
   "execution_count": 42,
   "id": "3e168782",
   "metadata": {},
   "outputs": [],
   "source": [
    "M = 5\n",
    "B1,_,_ = get_binary_filter(tf.convert_to_tensor(weights['conv2d']),M)\n",
    "bias1 = tf.convert_to_tensor(weights['bias'])\n",
    "W1 = tf.convert_to_tensor(weights['conv2d'])\n",
    "B2,_,_ = get_binary_filter(tf.convert_to_tensor(weights['conv2d_1']),M)\n",
    "bias2 = tf.convert_to_tensor(weights['bias_1'])\n",
    "W2 = tf.convert_to_tensor(weights['conv2d_1'])"
   ]
  },
  {
   "cell_type": "code",
   "execution_count": 43,
   "id": "45c91a3d",
   "metadata": {},
   "outputs": [
    {
     "name": "stdout",
     "output_type": "stream",
     "text": [
      "Epoch 1/5\n",
      "\r",
      "  1/235 [..............................] - ETA: 37s - loss: 2.4248 - accuracy: 0.0898"
     ]
    },
    {
     "name": "stderr",
     "output_type": "stream",
     "text": [
      "/home/ecbm4040/envTF24/lib/python3.6/site-packages/tensorflow/python/data/ops/dataset_ops.py:3504: UserWarning: Even though the tf.config.experimental_run_functions_eagerly option is set, this option does not apply to tf.data functions. tf.data functions are still traced and executed as graphs.\n",
      "  \"Even though the tf.config.experimental_run_functions_eagerly \"\n"
     ]
    },
    {
     "name": "stdout",
     "output_type": "stream",
     "text": [
      "235/235 [==============================] - ETA: 0s - loss: 1.3436 - accuracy: 0.5383"
     ]
    },
    {
     "name": "stderr",
     "output_type": "stream",
     "text": [
      "/home/ecbm4040/envTF24/lib/python3.6/site-packages/tensorflow/python/data/ops/dataset_ops.py:3504: UserWarning: Even though the tf.config.experimental_run_functions_eagerly option is set, this option does not apply to tf.data functions. tf.data functions are still traced and executed as graphs.\n",
      "  \"Even though the tf.config.experimental_run_functions_eagerly \"\n"
     ]
    },
    {
     "name": "stdout",
     "output_type": "stream",
     "text": [
      "235/235 [==============================] - 27s 117ms/step - loss: 1.3417 - accuracy: 0.5388 - val_loss: 0.6366 - val_accuracy: 0.7522\n",
      "Epoch 2/5\n",
      "235/235 [==============================] - 27s 115ms/step - loss: 0.5677 - accuracy: 0.7830 - val_loss: 0.5766 - val_accuracy: 0.7690\n",
      "Epoch 3/5\n",
      "235/235 [==============================] - 27s 116ms/step - loss: 0.5016 - accuracy: 0.8098 - val_loss: 0.4853 - val_accuracy: 0.8187\n",
      "Epoch 4/5\n",
      "235/235 [==============================] - 27s 116ms/step - loss: 0.4738 - accuracy: 0.8226 - val_loss: 0.4859 - val_accuracy: 0.8127\n",
      "Epoch 5/5\n",
      "235/235 [==============================] - 27s 115ms/step - loss: 0.4610 - accuracy: 0.8252 - val_loss: 0.5037 - val_accuracy: 0.8153\n"
     ]
    },
    {
     "data": {
      "text/plain": [
       "<tensorflow.python.keras.callbacks.History at 0x7f9e5766de10>"
      ]
     },
     "execution_count": 43,
     "metadata": {},
     "output_type": "execute_result"
    }
   ],
   "source": [
    "N=5\n",
    "model_55 = build_model(x_train,y_train,M,N,W1,B1,W2,B2,bias1,bias2,verbose=1,lr=0.01)\n",
    "model_55.fit(x=x_train, y=y_train,batch_size=256,epochs=5, validation_data=(x_test, y_test),verbose=1)"
   ]
  },
  {
   "cell_type": "code",
   "execution_count": 44,
   "id": "60be53cb",
   "metadata": {},
   "outputs": [],
   "source": [
    "model_55.save_weights(filepath=\"./saved_weights/model_55\")"
   ]
  },
  {
   "cell_type": "markdown",
   "id": "81d8b796",
   "metadata": {},
   "source": [
    "### Experiments with different model setups"
   ]
  },
  {
   "cell_type": "markdown",
   "id": "0d020822",
   "metadata": {},
   "source": [
    "#### Model with sigmoid binary activation"
   ]
  },
  {
   "cell_type": "code",
   "execution_count": 45,
   "id": "bd68c6f6",
   "metadata": {},
   "outputs": [],
   "source": [
    "from layer_func import *"
   ]
  },
  {
   "cell_type": "code",
   "execution_count": 46,
   "id": "028ded0c",
   "metadata": {},
   "outputs": [],
   "source": [
    "def build_model_sigmoid(x_train,y_train,M,N,W1,B1,W2,B2,bias1,bias2,stride=1,verbose=1,lr=0.01):\n",
    "\n",
    "    model = tf.keras.models.Sequential()\n",
    "\n",
    "    model.add(ABCLayer_sigmoid(M, N, B1, bias1, W1,stride))\n",
    "    model.add(AveragePooling2D(pool_size=(2, 2), strides=(2, 2), padding='valid'))\n",
    "    model.add(ABCLayer_sigmoid(M,N,B2,bias2,W2,stride))\n",
    "    model.add(AveragePooling2D(pool_size=(2, 2), strides=(2, 2), padding='valid'))\n",
    "    model.add(Flatten())\n",
    "    model.add(Dense(100, activation='tanh'))\n",
    "    model.add(Dense(10, activation='softmax'))\n",
    "    \n",
    "    optimizer = tf.keras.optimizers.Adam(lr=lr)\n",
    "    model.compile(optimizer=optimizer,\n",
    "                  loss='sparse_categorical_crossentropy',\n",
    "                  metrics=['accuracy'])\n",
    "    return model"
   ]
  },
  {
   "cell_type": "markdown",
   "id": "3b4f4ea7",
   "metadata": {},
   "source": [
    "M=5, N=3"
   ]
  },
  {
   "cell_type": "code",
   "execution_count": 47,
   "id": "9c44c71b",
   "metadata": {},
   "outputs": [],
   "source": [
    "M = 5\n",
    "B1,_,_ = get_binary_filter(tf.convert_to_tensor(weights['conv2d']),M)\n",
    "bias1 = tf.convert_to_tensor(weights['bias'])\n",
    "W1 = tf.convert_to_tensor(weights['conv2d'])\n",
    "B2,_,_ = get_binary_filter(tf.convert_to_tensor(weights['conv2d_1']),M)\n",
    "bias2 = tf.convert_to_tensor(weights['bias_1'])\n",
    "W2 = tf.convert_to_tensor(weights['conv2d_1'])"
   ]
  },
  {
   "cell_type": "code",
   "execution_count": 49,
   "id": "28856a7a",
   "metadata": {
    "scrolled": false
   },
   "outputs": [
    {
     "name": "stdout",
     "output_type": "stream",
     "text": [
      "Epoch 1/5\n",
      "\r",
      "  1/235 [..............................] - ETA: 30s - loss: 2.4627 - accuracy: 0.0742"
     ]
    },
    {
     "name": "stderr",
     "output_type": "stream",
     "text": [
      "/home/ecbm4040/envTF24/lib/python3.6/site-packages/tensorflow/python/data/ops/dataset_ops.py:3504: UserWarning: Even though the tf.config.experimental_run_functions_eagerly option is set, this option does not apply to tf.data functions. tf.data functions are still traced and executed as graphs.\n",
      "  \"Even though the tf.config.experimental_run_functions_eagerly \"\n"
     ]
    },
    {
     "name": "stdout",
     "output_type": "stream",
     "text": [
      "235/235 [==============================] - ETA: 0s - loss: 2.0562 - accuracy: 0.2756"
     ]
    },
    {
     "name": "stderr",
     "output_type": "stream",
     "text": [
      "/home/ecbm4040/envTF24/lib/python3.6/site-packages/tensorflow/python/data/ops/dataset_ops.py:3504: UserWarning: Even though the tf.config.experimental_run_functions_eagerly option is set, this option does not apply to tf.data functions. tf.data functions are still traced and executed as graphs.\n",
      "  \"Even though the tf.config.experimental_run_functions_eagerly \"\n"
     ]
    },
    {
     "name": "stdout",
     "output_type": "stream",
     "text": [
      "235/235 [==============================] - 19s 81ms/step - loss: 2.0546 - accuracy: 0.2763 - val_loss: 1.0554 - val_accuracy: 0.6639\n",
      "Epoch 2/5\n",
      "235/235 [==============================] - 19s 81ms/step - loss: 0.9276 - accuracy: 0.6919 - val_loss: 0.7480 - val_accuracy: 0.7241\n",
      "Epoch 3/5\n",
      "235/235 [==============================] - 19s 81ms/step - loss: 0.7076 - accuracy: 0.7398 - val_loss: 0.6839 - val_accuracy: 0.7355\n",
      "Epoch 4/5\n",
      "235/235 [==============================] - 19s 81ms/step - loss: 0.6492 - accuracy: 0.7564 - val_loss: 0.6579 - val_accuracy: 0.7327\n",
      "Epoch 5/5\n",
      "235/235 [==============================] - 19s 80ms/step - loss: 0.6228 - accuracy: 0.7632 - val_loss: 0.6292 - val_accuracy: 0.7639\n"
     ]
    },
    {
     "data": {
      "text/plain": [
       "<tensorflow.python.keras.callbacks.History at 0x7f9e5771ccc0>"
      ]
     },
     "execution_count": 49,
     "metadata": {},
     "output_type": "execute_result"
    }
   ],
   "source": [
    "N=3\n",
    "model_sigmoid53 = build_model_sigmoid(x_train,y_train,M,N,W1,B1,W2,B2,bias1,bias2,verbose=1,lr=0.001)\n",
    "model_sigmoid53.fit(x=x_train, y=y_train,batch_size=256,epochs=5, validation_data=(x_test, y_test),verbose=1)"
   ]
  },
  {
   "cell_type": "code",
   "execution_count": 51,
   "id": "cd358443",
   "metadata": {},
   "outputs": [],
   "source": [
    "model_sigmoid53.save_weights(filepath=\"./saved_weights/model_sigmoid53\")"
   ]
  },
  {
   "cell_type": "markdown",
   "id": "ae49401f",
   "metadata": {},
   "source": [
    "#### Model with different initializations"
   ]
  },
  {
   "cell_type": "markdown",
   "id": "63f62739",
   "metadata": {},
   "source": [
    "M=5, N=3"
   ]
  },
  {
   "cell_type": "code",
   "execution_count": 52,
   "id": "7781b1b1",
   "metadata": {},
   "outputs": [],
   "source": [
    "M = 5\n",
    "B1,_,_ = get_binary_filter(tf.random.normal(shape=weights['conv2d'].shape),M)\n",
    "bias1 = tf.random.normal(shape=(10,1))\n",
    "W1 = tf.random.normal(shape=weights['conv2d'].shape)\n",
    "B2,_,_ = get_binary_filter(tf.random.normal(shape=weights['conv2d_1'].shape),M)\n",
    "bias2 = tf.random.normal(shape=(8,1))\n",
    "W2 = tf.random.normal(shape=weights['conv2d_1'].shape)"
   ]
  },
  {
   "cell_type": "code",
   "execution_count": 54,
   "id": "92ea90ef",
   "metadata": {},
   "outputs": [
    {
     "name": "stdout",
     "output_type": "stream",
     "text": [
      "Epoch 1/5\n",
      "\r",
      "  1/235 [..............................] - ETA: 30s - loss: 2.2105 - accuracy: 0.1875"
     ]
    },
    {
     "name": "stderr",
     "output_type": "stream",
     "text": [
      "/home/ecbm4040/envTF24/lib/python3.6/site-packages/tensorflow/python/data/ops/dataset_ops.py:3504: UserWarning: Even though the tf.config.experimental_run_functions_eagerly option is set, this option does not apply to tf.data functions. tf.data functions are still traced and executed as graphs.\n",
      "  \"Even though the tf.config.experimental_run_functions_eagerly \"\n"
     ]
    },
    {
     "name": "stdout",
     "output_type": "stream",
     "text": [
      "235/235 [==============================] - ETA: 0s - loss: 0.7767 - accuracy: 0.7223"
     ]
    },
    {
     "name": "stderr",
     "output_type": "stream",
     "text": [
      "/home/ecbm4040/envTF24/lib/python3.6/site-packages/tensorflow/python/data/ops/dataset_ops.py:3504: UserWarning: Even though the tf.config.experimental_run_functions_eagerly option is set, this option does not apply to tf.data functions. tf.data functions are still traced and executed as graphs.\n",
      "  \"Even though the tf.config.experimental_run_functions_eagerly \"\n"
     ]
    },
    {
     "name": "stdout",
     "output_type": "stream",
     "text": [
      "235/235 [==============================] - 19s 81ms/step - loss: 0.7759 - accuracy: 0.7226 - val_loss: 0.4905 - val_accuracy: 0.8150\n",
      "Epoch 2/5\n",
      "235/235 [==============================] - 19s 81ms/step - loss: 0.4501 - accuracy: 0.8321 - val_loss: 0.4552 - val_accuracy: 0.8301\n",
      "Epoch 3/5\n",
      "235/235 [==============================] - 19s 83ms/step - loss: 0.4070 - accuracy: 0.8491 - val_loss: 0.4724 - val_accuracy: 0.8217\n",
      "Epoch 4/5\n",
      "235/235 [==============================] - 19s 83ms/step - loss: 0.3819 - accuracy: 0.8562 - val_loss: 0.4228 - val_accuracy: 0.8465\n",
      "Epoch 5/5\n",
      "235/235 [==============================] - 19s 83ms/step - loss: 0.3683 - accuracy: 0.8614 - val_loss: 0.4127 - val_accuracy: 0.8504\n"
     ]
    },
    {
     "data": {
      "text/plain": [
       "<tensorflow.python.keras.callbacks.History at 0x7f9e573adeb8>"
      ]
     },
     "execution_count": 54,
     "metadata": {},
     "output_type": "execute_result"
    }
   ],
   "source": [
    "N=3\n",
    "model_53_ini = build_model(x_train,y_train,M,N,W1,B1,W2,B2,bias1,bias2,verbose=1,lr=0.01)\n",
    "model_53_ini.fit(x=x_train, y=y_train,batch_size=256,epochs=5, validation_data=(x_test, y_test),verbose=1)"
   ]
  },
  {
   "cell_type": "code",
   "execution_count": 56,
   "id": "8f6be964",
   "metadata": {},
   "outputs": [],
   "source": [
    "model_53_ini.save_weights(\"./saved_weights/model_53_ini\")"
   ]
  },
  {
   "cell_type": "code",
   "execution_count": 57,
   "id": "9fca392a",
   "metadata": {},
   "outputs": [],
   "source": [
    "!tree ./ >> README.md"
   ]
  }
 ],
 "metadata": {
  "kernelspec": {
   "display_name": "Python 3",
   "language": "python",
   "name": "python3"
  },
  "language_info": {
   "codemirror_mode": {
    "name": "ipython",
    "version": 3
   },
   "file_extension": ".py",
   "mimetype": "text/x-python",
   "name": "python",
   "nbconvert_exporter": "python",
   "pygments_lexer": "ipython3",
   "version": "3.6.9"
  }
 },
 "nbformat": 4,
 "nbformat_minor": 5
}
